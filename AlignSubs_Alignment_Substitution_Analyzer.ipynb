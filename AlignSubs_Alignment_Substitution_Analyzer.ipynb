{
  "nbformat": 4,
  "nbformat_minor": 0,
  "metadata": {
    "colab": {
      "provenance": [],
      "authorship_tag": "ABX9TyOo13q1o9YzXx91F7MemDYN",
      "include_colab_link": true
    },
    "kernelspec": {
      "name": "python3",
      "display_name": "Python 3"
    },
    "language_info": {
      "name": "python"
    }
  },
  "cells": [
    {
      "cell_type": "markdown",
      "metadata": {
        "id": "view-in-github",
        "colab_type": "text"
      },
      "source": [
        "<a href=\"https://colab.research.google.com/github/karagol-taner/Alignment-Substitution-Analyzer/blob/main/AlignSubs_Alignment_Substitution_Analyzer.ipynb\" target=\"_parent\"><img src=\"https://colab.research.google.com/assets/colab-badge.svg\" alt=\"Open In Colab\"/></a>"
      ]
    },
    {
      "cell_type": "markdown",
      "source": [
        "# Alignment Substitution Analyzer (AlignSubs)\n",
        "This Google Colab notebook serves as a platform for executing the Python script that allows researchers to analyze multiple sequence alignments (MSA, as FASTA or Clustalw Files) and generate substitution statistics for nucleotide and protein sequences. It directly integrates with the corresponding [GitHub repository (AlignSubs: Alignment Substitution Analyzer)](https://github.com/karagol-taner/Alignment-Substitution-Analyzer), providing a seamless environment for conversion tasks."
      ],
      "metadata": {
        "id": "LSG_tPBKplC7"
      }
    },
    {
      "cell_type": "code",
      "source": [
        "#@markdown Install AlignSubs\n",
        "!pip install AlignSubs"
      ],
      "metadata": {
        "id": "eHpPMk3voY2J",
        "cellView": "form"
      },
      "execution_count": null,
      "outputs": []
    },
    {
      "cell_type": "code",
      "source": [
        "#@markdown Run the Program\n",
        "!AlignSubs"
      ],
      "metadata": {
        "cellView": "form",
        "id": "JwReJD6QEaE2"
      },
      "execution_count": null,
      "outputs": []
    }
  ]
}